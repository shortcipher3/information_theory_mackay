{
  "nbformat": 4,
  "nbformat_minor": 0,
  "metadata": {
    "colab": {
      "name": "Chapter3.ipynb",
      "provenance": [],
      "collapsed_sections": [],
      "authorship_tag": "ABX9TyMa0iXKQlX4VaKUnVdDkRtu",
      "include_colab_link": true
    },
    "kernelspec": {
      "name": "python3",
      "display_name": "Python 3"
    }
  },
  "cells": [
    {
      "cell_type": "markdown",
      "metadata": {
        "id": "view-in-github",
        "colab_type": "text"
      },
      "source": [
        "<a href=\"https://colab.research.google.com/github/shortcipher3/information_theory_mackay/blob/master/Chapter3.ipynb\" target=\"_parent\"><img src=\"https://colab.research.google.com/assets/colab-badge.svg\" alt=\"Open In Colab\"/></a>"
      ]
    },
    {
      "cell_type": "markdown",
      "metadata": {
        "id": "I1R1OB4LQ7Pp",
        "colab_type": "text"
      },
      "source": [
        "# Chapter 3"
      ]
    },
    {
      "cell_type": "markdown",
      "metadata": {
        "id": "AG-QUyxqQ78w",
        "colab_type": "text"
      },
      "source": [
        "## Exercise 3.1\n",
        "\n",
        "Symbol                   | 1 | 2 | 3 | 4 | 5 | 6 | 7 | 8 | 9 | 10\n",
        "-------------------------|---|---|---|---|---|---|---|---|---|---\n",
        "Number of faces of die A | 6 | 4 | 3 | 2 | 1 | 1 | 1 | 1 | 1 | 0\n",
        "Number of faces of die B | 3 | 3 | 2 | 2 | 2 | 2 | 2 | 2 | 1 | 1\n",
        "\n",
        "$Pr(D=D_A | O = \\{5, 3, 9, 3, 8, 4, 7\\})$\n",
        "\n",
        "$Pr(D=D_A | O) = \\frac{Pr(O | D_A)Pr(D_A)Pr(O)}{Pr(O | D_A)Pr(D_A)Pr(O) + Pr(O | D_B)Pr(D_B)Pr(O)}$\n",
        "\n",
        "My prior is that $Pr(D_A) == Pr(D_B)$\n",
        "\n",
        "$Pr(D=D_A | O) = \\frac{Pr(O | D_A)}{Pr(O | D_A) + Pr(O | D_B)}$\n",
        "\n",
        "$O = \\{5, 3, 9, 3, 8, 4, 7\\}$\n",
        "\n",
        "$Pr(O | D_A) = Pr(O=5| D_A) \\times Pr(O=3| D_A) \\times Pr(O=9| D_A) \\times Pr(O=3| D_A) \\times Pr(O=8| D_A) \\times Pr(O=4| D_A) \\times Pr(O=7| D_A) = \\frac{1}{20^7} 1 \\times 3 \\times 1 \\times 3 \\times 2 \\times 1 \\times 1 $\n",
        "\n",
        "$Pr(O | D_B) = Pr(O=5| D_B) \\times Pr(O=3| D_B) \\times Pr(O=9| D_B) \\times Pr(O=3| D_B) \\times Pr(O=8| D_B) \\times Pr(O=4| D_B) \\times Pr(O=7| D_B) = \\frac{1}{20^7} 2 \\times 2 \\times 1 \\times 2 \\times 2 \\times 2 \\times 2 $\n",
        "\n",
        "$\\frac{Pr(O | D_A)}{Pr(O | D_A) + Pr(O | D_B)} = \\frac{18}{18+64} = \\frac{9}{41} $\n"
      ]
    },
    {
      "cell_type": "markdown",
      "metadata": {
        "id": "QTnjkdG5Q8Xy",
        "colab_type": "text"
      },
      "source": [
        "## Exercise 3.2\n",
        "\n",
        "$O = \\{3, 5, 4, 8, 3, 9, 7\\}$\n",
        "\n",
        "Similar to exercise 3.1\n",
        "\n",
        "$Pr( O | D_A ) = \\frac{1}{20^7} 3 \\times 1 \\times 2 \\times 1 \\times 3 \\times 1 \\times 1 $\n",
        "\n",
        "$Pr( O | D_B ) = \\frac{1}{20^7} 2 \\times 2 \\times 2 \\times 2 \\times 2 \\times 1 \\times 2 $\n",
        "\n",
        "$Pr( O | D_C ) = \\frac{1}{20^7} 1 \\times 1 \\times 1 \\times 1 \\times 1 \\times 1 \\times 1 $\n",
        "\n",
        "a) $Pr(D_A | O) = \\frac{ Pr(O | D_A) }{ Pr(O | D_A) + Pr(O | D_B) + Pr(O | D_C) } = \\frac{18}{18+64+1} = \\frac{18}{83} $\n",
        "\n",
        "b) $Pr(D_B | O) = \\frac{ Pr(O | D_B) }{ Pr(O | D_A) + Pr(O | D_B) + Pr(O | D_C) } = \\frac{64}{18+64+1} = \\frac{64}{83} $\n",
        "\n",
        "c) $Pr(D_C | O) = \\frac{ Pr(O | D_C) }{ Pr(O | D_A) + Pr(O | D_B) + Pr(O | D_C) } = \\frac{1}{18+64+1} = \\frac{1}{83} $\n"
      ]
    },
    {
      "cell_type": "markdown",
      "metadata": {
        "id": "Yb3IdGteQ8mQ",
        "colab_type": "text"
      },
      "source": [
        "## Exercise 3.4\n",
        "\n",
        "Yes and No, since some O type blood was found, we can't rule Oliver out. However, based on blood type alone it is unlikely that Oliver committed the crime.  The probability is $\\frac{1}{60 \\times population size}$.  The minimum population size is 100 since 1% have AB type blood, this would give the probability of Oliver being the committer of the crime to be $\\frac{1}{60}$\n",
        "\n",
        "One sample is AB - so that can't be Oliver.\n",
        "The other sample is "
      ]
    }
  ]
}