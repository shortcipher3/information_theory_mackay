{
  "nbformat": 4,
  "nbformat_minor": 0,
  "metadata": {
    "colab": {
      "name": "Chapter2.ipynb",
      "provenance": [],
      "collapsed_sections": [],
      "authorship_tag": "ABX9TyO8mbA/ZHM43tfKO6p0f1Q8",
      "include_colab_link": true
    },
    "kernelspec": {
      "name": "python3",
      "display_name": "Python 3"
    }
  },
  "cells": [
    {
      "cell_type": "markdown",
      "metadata": {
        "id": "view-in-github",
        "colab_type": "text"
      },
      "source": [
        "<a href=\"https://colab.research.google.com/github/shortcipher3/information_theory_mackay/blob/master/Chapter2.ipynb\" target=\"_parent\"><img src=\"https://colab.research.google.com/assets/colab-badge.svg\" alt=\"Open In Colab\"/></a>"
      ]
    },
    {
      "cell_type": "markdown",
      "metadata": {
        "id": "O4HCcmaKV9WR",
        "colab_type": "text"
      },
      "source": [
        "## Exercise 2.16\n",
        "\n",
        "### a)\n",
        "\n",
        "#### sum\n",
        "\n",
        "we simply count the number of ways to get the sums, for example to get 2 we must have only one possibility $(D_A=1, D_B=1)$, for 7 we have  six possibilities $(D_A=1, D_B=6), (D_A=2, D_B=5), (D_A=3, D_B=4), (D_A=4, D_B=3), (D_A=5, D_B=2), (D_A=6, D_B=1)$, this gives:\n",
        "\n",
        "sum     | count\n",
        "--------|-------\n",
        "2       | 1\n",
        "3       | 2\n",
        "4       | 3\n",
        "5       | 4\n",
        "6       | 5\n",
        "7       | 6\n",
        "8       | 5\n",
        "9       | 4\n",
        "10      | 3\n",
        "11      | 2\n",
        "12      | 1\n",
        "\n",
        "There are 36 total outcomes (six outcomes of $D_A$ and $D_B$, or the total of the sum counts), so the probability of an outcome is the count over 36.\n",
        "\n",
        "#### absolute difference $|D_A - D_B|$\n",
        "\n",
        "Using a similar counting strategy, we have six ways of getting 0: $(D_A=1, D_B=1), (D_A=2, D_B=2), (D_A=3, D_B=3), (D_A=4, D_B=4), (D_A=5, D_B=5), (D_A=6, D_B=6)$, there are ten ways of getting 1 $(D_A=2, D_B=1), (D_A=3, D_B=2), (D_A=4, D_B=3), (D_A=5, D_B=4), (D_A=6, D_B=5), (D_A=1, D_B=2), (D_A=2, D_B=3), (D_A=3, D_B=4), (D_A=4, D_B=5), (D_A=5, D_B=6)$, this gives:\n",
        "\n",
        "$abs(D_A-D_B)$| count\n",
        "--------|-------\n",
        "0       |  6\n",
        "1       | 10\n",
        "2       |  8\n",
        "3       |  6\n",
        "4       |  4\n",
        "5       |  2\n",
        "\n",
        "There are 36 total outcomes (six outcomes of $D_A$ and $D_B$, or the total of the sum counts), so the probability of an outcome is the count over 36.\n",
        "\n",
        "### b)\n",
        "\n",
        "As we roll and sum more dice the outcome will approach the normal distribution by the central limit theorem. I will denote the dice roll sum $S_D = \\sum_{x=0}^{99} D_x$ where $D_X \\in \\mathbb{Z} [1, 6]$ For 100 dice we will have:\n",
        "\n",
        "minimum$(S_D) = \\sum_{x=0}^{99} min(D_x) = 100 \\times 1 = 100$\n",
        "\n",
        "maximum$(S_D) = \\sum_{x=0}^{99} max(D_x) = 100 \\times 6 = 600$\n",
        "\n",
        "mean$(S_D) = \\sum_{x=0}^{99} \\frac{1}{6} \\sum_{n=1}^6 D_n = 100 \\times \\frac{1}{6} \\sum_{n=1}^6 D_n = 100 \\times \\frac{21}{6} = 350$\n",
        "\n",
        "std$(S_D) = \\sqrt{ \\frac{1}{6^{100}} \\sum_{x=0}^{99} \\sum_{n=1}^6 \\left( D_n - \\bar{D_n} \\right)^2 } = \\sqrt{ \\frac{1}{6^{100}} \\sum_{x=0}^{99} 2(.5)^2 + 2 (1.5)^2 + 2(2.5)^2 }$\n",
        "\n",
        "A sketch of the distribution is in the next cell, based on the fact that the pmf of the sum of two random variables is the convolution of the pmfs, and using the minimum to produce the offset.\n",
        "\n",
        "### c)\n",
        "Dice can be labeled: ${0,1,2,3,4,5,6}$, but must have a uniform distribution over the integers 1-12. Without loss of generality we can say:\n",
        "\n",
        "minimum$(D_S) = 1 \\rightarrow 0 \\in D_A, 1 \\in D_B, 0 \\notin D_B$\n",
        "\n",
        "maximum$(D_S) = 12 \\rightarrow 6 \\in D_A, 6 \\in D_B$\n",
        "\n",
        "There are 36 possible die roll outcomes, and so we need 3 ways to produce each of the desired sum outcome. Suppose $D_B$ has only one face labeled 1, then $D_A$ must have three faces labeled 0. If $D_B$ has only one face labeled 6, then $D_A$ must have three faces labeled 6. Now we have six faces for $D_A$, $D_A \\in {0, 0, 0, 6, 6, 6}$, which would give $D_B \\in {1, 2, 3, 4, 5, 6}$ we see that the number of sum outcomes is 12 ($|D_A| \\times |D_B|$) and that the outcomes are uniform.\n",
        "\n",
        "### d)\n",
        "A trivial solution is to label 99 dice so that all faces on each die are constant, the final die can be labeled with any choice of uniform distribution."
      ]
    },
    {
      "cell_type": "code",
      "metadata": {
        "id": "NHufkAEFg1cz",
        "colab_type": "code",
        "colab": {
          "base_uri": "https://localhost:8080/",
          "height": 282
        },
        "outputId": "f31e8095-6086-435d-93eb-b995b2c8701e"
      },
      "source": [
        "import numpy as np\n",
        "import matplotlib.pyplot as plt\n",
        "\n",
        "%matplotlib inline\n",
        "\n",
        "num_dice = 100\n",
        "num_faces = 6\n",
        "sum_min_val = num_dice * 1\n",
        "pmf_die = np.ones((num_faces,))\n",
        "pmf_sum = np.ones((1,))\n",
        "\n",
        "for n in range(num_dice):\n",
        "  pmf_sum = np.convolve(pmf_sum, pmf_die)\n",
        "\n",
        "xs = np.arange(len(pmf_sum)) + sum_min_val\n",
        "plt.bar(xs, pmf_sum/(num_faces**num_dice), width=1, align='edge')"
      ],
      "execution_count": 5,
      "outputs": [
        {
          "output_type": "execute_result",
          "data": {
            "text/plain": [
              "<BarContainer object of 501 artists>"
            ]
          },
          "metadata": {
            "tags": []
          },
          "execution_count": 5
        },
        {
          "output_type": "display_data",
          "data": {
            "image/png": "[encoded data removed]",
            "text/plain": [
              "<Figure size 432x288 with 1 Axes>"
            ]
          },
          "metadata": {
            "tags": []
          }
        }
      ]
    },
    {
      "cell_type": "markdown",
      "metadata": {
        "id": "BEcUT8ShV9o_",
        "colab_type": "text"
      },
      "source": [
        "## Exercise 2.18\n",
        "\n",
        "Bayes Theorem states\n",
        "\n",
        "$P(x, y) = P(x) P(y|x) = P(y) P(x|y)$\n",
        "\n",
        "$P(x=0) P(y|x=0) = P(y) P(x=0|y)$\n",
        "\n",
        "$P(x=1) P(y|x=1) = P(y) P(x=1|y)$\n",
        "\n",
        "$\\frac{P(y)P(x=1|y)}{P(y)P(x=0|y)} = \\frac{P(x=1) P(y|x=1)}{P(x=0) P(y|x=0)}$\n",
        "\n",
        "$\\frac{P(x=1|y)}{P(x=0|y)} = \\frac{P(x=1) P(y|x=1)}{P(x=0) P(y|x=0)}$\n",
        "\n",
        "$log\\frac{P(x=1|y)}{P(x=0|y)} = log\\frac{P(x=1) P(y|x=1)}{P(x=0) P(y|x=0)}$\n",
        "\n",
        "$log\\frac{P(x=1|y)}{P(x=0|y)} = log\\frac{P(y|x=1)}{P(y|x=0)} + log \\frac{P(x=1)}{P(x=0)}$"
      ]
    },
    {
      "cell_type": "markdown",
      "metadata": {
        "id": "ufQtgC3bV908",
        "colab_type": "text"
      },
      "source": [
        "## Exercise 2.21\n",
        "$E[f(x)] = \\sum_x p(x) f(x) = p_a f(a) + p(b) f(b) + p(c) f(c) = 0.1 \\times 10 + 0.2 \\times 5 + 0.7 \\times \\frac{10}{7} = 1 + 1 + 1 = 3$\n",
        "$E\\left[\\frac{1}{P(x)}\\right] = \\sum_x p(x) \\frac{1}{p(x)} = \\sum_x 1 = 1 + 1 + 1 = 3$\n"
      ]
    },
    {
      "cell_type": "markdown",
      "metadata": {
        "id": "_n9FCGVoV9-p",
        "colab_type": "text"
      },
      "source": [
        "## Exercise 2.22\n",
        "$E\\left[\\frac{1}{P(x)}\\right] = \\sum_x p(x) \\frac{1}{p(x)} = \\sum_x 1 $ which is the number of non-zero probability values x can take, or more succinctly $|A_x|$\n"
      ]
    },
    {
      "cell_type": "markdown",
      "metadata": {
        "id": "5k8mrfwWV-CT",
        "colab_type": "text"
      },
      "source": [
        "## Exercise 2.23\n",
        "$E[g(x)] = \\sum_x p(x) g(x) = p_a g(a) + p(b) g(b) + p(c) g(c) = 0.1 \\times 0 + 0.2 \\times 1 + 0.7 \\times 0 = 0 + 0.2 + 0 = 0.2$\n"
      ]
    },
    {
      "cell_type": "markdown",
      "metadata": {
        "id": "AJxAE86eV-Fn",
        "colab_type": "text"
      },
      "source": [
        ""
      ]
    },
    {
      "cell_type": "markdown",
      "metadata": {
        "id": "xDyyraTfV-If",
        "colab_type": "text"
      },
      "source": [
        ""
      ]
    },
    {
      "cell_type": "markdown",
      "metadata": {
        "id": "LCbaKQR7V-Ls",
        "colab_type": "text"
      },
      "source": [
        ""
      ]
    },
    {
      "cell_type": "markdown",
      "metadata": {
        "id": "2R3Xdq1RV-QU",
        "colab_type": "text"
      },
      "source": [
        "## Exercise 2.25\n",
        "\n",
        "Prove $H(x) \\le log|A_x|$ with equality iff $p_i = \\frac{1}{|A_x|}$\n",
        "\n",
        "We have the following constraint: $\\sum_{i=0}^{N-1} p_i = 1$\n",
        "\n",
        "$H(i) = - \\sum_i p_i log( p_i)$\n",
        "\n",
        "From the text:\n",
        "\n",
        "Jensen's Inequality states:\n",
        "\n",
        "$E[f(x)] \\ge f(E[x])$\n",
        "\n",
        "$x log (x)$ is convex for $x>0$\n",
        "\n",
        "So, we choose $f(x) = x log x$ where $x \\in [0,1]$ and $\\sum_i x_i = 1$\n",
        "\n",
        "$E[x] = \\frac{1}{|A_x|} \\sum_i x_i = \\frac{1}{|A_x|}$\n",
        "\n",
        "$f(E[x]) = \\frac{1}{|A_x|} log \\frac{1}{|A_x|}$\n",
        "\n",
        "$E[f(x)] = \\frac{1}{|A_x|} \\sum_x x log(x) \\ge \\frac{1}{|A_x|} log \\frac{1}{|A_x|}$\n",
        "\n",
        "$E[f(x)] = \\sum_x x log(x) \\ge log \\frac{1}{|A_x|}$\n",
        "\n",
        "$E[f(x)] = \\sum_x x log(x) \\ge - log |A_x|$\n",
        "\n",
        "$E[f(x)] = - \\sum_x x log(x) \\le log |A_x|$\n",
        "\n",
        "$E[f(x)] = H(x) \\le log |A_x|$\n",
        "\n",
        "Since our function $f(x) = x log(x)$ is convex, it has a unique minimum, we check the boundaries, where $x_i=1, x_{j \\ne i} = 0$, which gives 0 (since we define $0 log 0$ as 0. We observe that $x_i = \\frac{1}{|A_x|}$ achieves the desired value and is the minimum. (This is the maximum when we negate our function, so the maximum entropy).\n"
      ]
    },
    {
      "cell_type": "markdown",
      "metadata": {
        "id": "icAdnLYYV-Yf",
        "colab_type": "text"
      },
      "source": [
        "## Exercise 2.26\n",
        "\n",
        "Prove $D_{KL}(P||Q) \\ge 0$ with equality iff $P=Q$\n",
        "\n",
        "From the text:\n",
        "$D_{KL}(P||Q) = P(x) log \\left( \\frac{P(x)}{Q(x)} \\right)$\n",
        "\n",
        "Jensen's Inequality:\n",
        "\n",
        "$E[f(x)] \\ge f(E[x])$\n"
      ]
    },
    {
      "cell_type": "code",
      "metadata": {
        "id": "-rQCVbrx1bwA",
        "colab_type": "code",
        "colab": {}
      },
      "source": [
        ""
      ],
      "execution_count": 0,
      "outputs": []
    }
  ]
}