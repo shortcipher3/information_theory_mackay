{
  "nbformat": 4,
  "nbformat_minor": 0,
  "metadata": {
    "colab": {
      "name": "Chapter4.ipynb",
      "provenance": [],
      "collapsed_sections": [],
      "authorship_tag": "ABX9TyM1mbM4EY2/fKi5vf+zlgT5",
      "include_colab_link": true
    },
    "kernelspec": {
      "name": "python3",
      "display_name": "Python 3"
    }
  },
  "cells": [
    {
      "cell_type": "markdown",
      "metadata": {
        "id": "view-in-github",
        "colab_type": "text"
      },
      "source": [
        "<a href=\"https://colab.research.google.com/github/shortcipher3/information_theory_mackay/blob/master/Chapter4.ipynb\" target=\"_parent\"><img src=\"https://colab.research.google.com/assets/colab-badge.svg\" alt=\"Open In Colab\"/></a>"
      ]
    },
    {
      "cell_type": "markdown",
      "metadata": {
        "id": "oCqaYnrmCo1J",
        "colab_type": "text"
      },
      "source": [
        "## Exercise 4.13\n",
        "\n",
        "a)\n",
        "Yes, here is my solution:\n",
        "\n",
        "label the balls 1-c, four balls go on each side of the scale per weighing and 4 balls are left out at each weighing, here are the weighings:\n",
        "\n",
        "weighing 1\n",
        "1, 2 | 5, 6\n",
        "3, 4 | 7, 8\n",
        "\n",
        "9, a\n",
        "b, c\n",
        "\n",
        "\n",
        "weighing 2\n",
        "1, 9 | 3, a\n",
        "5, b | 7, c\n",
        "\n",
        "2, 6\n",
        "4, 8\n",
        "\n",
        "\n",
        "weighing 3\n",
        "9, 6 | a, 2\n",
        "c, 4 | b, 8\n",
        "\n",
        "1, 3\n",
        "5, 7\n",
        "\n",
        "If one ball is heavier, it can be uniquely identified by finding the common ball between the set of balls on the heavy side of the two weighings.\n",
        "\n",
        "b)\n",
        "\n",
        "Using the provided textbook solution to part a, the outcome of the weighings will be a sequence of W trinary digits, there are $3^W$ W digit trinary numbers, not all of these are possible outcomes.  We can eliminate AAA, BBB, and CCC sequences - since exactly two of the weighings must have a heavy side, giving $3^W - 3$. Furthermore we can eliminate half of the remaining sequences, because A can only transition to B (not C), B can only transition to C (not A) and C can only transition to A (not B), this gives the solution:\n",
        "$$\\frac{3^W - 3}{2}$$\n"
      ]
    },
    {
      "cell_type": "markdown",
      "metadata": {
        "id": "HP_pGYnNF0nd",
        "colab_type": "text"
      },
      "source": [
        "## Exercise 4.20\n",
        "\n",
        "$f(x) = x^x^x^x^{...}$\n",
        "\n",
        "$log \\left( f(x) \\right) = f(x) log(x)$\n",
        "\n",
        "$f(x) = \\frac{log \\left( f(x) \\right) }{log(x)}$\n",
        "\n",
        "$f(x) = log \\left( f(x) - x \\right)$\n",
        "\n",
        "$e^{f(x)} = f(x) - x$\n",
        "\n",
        "$x = f(x) - e^{f(x)}$\n",
        "\n",
        "$log(x) = log \\left( f(x) - e^{f(x)} \\right)$\n",
        "\n",
        "$log(x) = \\frac{log \\left( f(x) \\right)}{log \\left( e^{f(x)} \\right)}$\n",
        "\n",
        "$log(x) = \\frac{1}{f(x)} log \\left( f(x) \\right)$"
      ]
    },
    {
      "cell_type": "code",
      "metadata": {
        "id": "H-T1iW9cGJmP",
        "colab_type": "code",
        "colab": {}
      },
      "source": [
        ""
      ],
      "execution_count": 0,
      "outputs": []
    }
  ]
}